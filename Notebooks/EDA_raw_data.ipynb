{
 "cells": [
  {
   "cell_type": "markdown",
   "metadata": {},
   "source": [
    "# EDA for Raw Data"
   ]
  },
  {
   "cell_type": "markdown",
   "metadata": {},
   "source": [
    "### Contains two components.\n",
    "    1. Exploratory Data Pre-processing\n",
    "    2. Exploratory Data Analysis"
   ]
  },
  {
   "cell_type": "code",
   "execution_count": 141,
   "metadata": {},
   "outputs": [],
   "source": [
    "import json\n",
    "import os\n",
    "import re\n",
    "import pandas as pd\n",
    "import numpy as np\n",
    "import seaborn as sns\n",
    "import matplotlib.pyplot as plt\n",
    "import matplotlib.font_manager as fm\n",
    "from pathlib import Path\n",
    "from collections import Counter"
   ]
  },
  {
   "cell_type": "code",
   "execution_count": 142,
   "metadata": {},
   "outputs": [
    {
     "name": "stdout",
     "output_type": "stream",
     "text": [
      "D:\\Desktop\\FY\\FYP\\researchproject\n"
     ]
    }
   ],
   "source": [
    "print(os.getcwd())"
   ]
  },
  {
   "cell_type": "markdown",
   "metadata": {},
   "source": [
    "#### Change working directory to project directory"
   ]
  },
  {
   "cell_type": "code",
   "execution_count": 143,
   "metadata": {},
   "outputs": [],
   "source": [
    "os.chdir(r'D:\\Desktop\\FY\\FYP\\researchproject')"
   ]
  },
  {
   "cell_type": "code",
   "execution_count": 144,
   "metadata": {},
   "outputs": [],
   "source": [
    "from src.utils import get_unique_id, load_config"
   ]
  },
  {
   "cell_type": "markdown",
   "metadata": {},
   "source": [
    "### Paths"
   ]
  },
  {
   "cell_type": "code",
   "execution_count": 145,
   "metadata": {},
   "outputs": [],
   "source": [
    "config = load_config('config.yaml')\n",
    "OUTPUT_PATH = Path(config['EXPLORATORY_DATA_PATH'])\n",
    "MERGED_DATA_PATH = Path(config['MERGED_DATA_PATH'])\n",
    "NER_CORPUS_PATH = Path(config['NER_CORPUS_PATH'])\n",
    "STOP_WORDS_CORPUS_PATH = Path(config['STOP_WORDS_CORPUS_PATH'])\n",
    "NOTOSANS_FONT_PATH = Path(config['NOTOSANS_FONT_PATH'])"
   ]
  },
  {
   "cell_type": "code",
   "execution_count": 146,
   "metadata": {},
   "outputs": [],
   "source": [
    "\n",
    "df = pd.read_json(MERGED_DATA_PATH)"
   ]
  },
  {
   "cell_type": "code",
   "execution_count": 147,
   "metadata": {},
   "outputs": [
    {
     "data": {
      "text/plain": [
       "(57143, 6)"
      ]
     },
     "execution_count": 147,
     "metadata": {},
     "output_type": "execute_result"
    }
   ],
   "source": [
    "df.shape"
   ]
  },
  {
   "cell_type": "code",
   "execution_count": 148,
   "metadata": {},
   "outputs": [
    {
     "data": {
      "text/html": [
       "<div>\n",
       "<style scoped>\n",
       "    .dataframe tbody tr th:only-of-type {\n",
       "        vertical-align: middle;\n",
       "    }\n",
       "\n",
       "    .dataframe tbody tr th {\n",
       "        vertical-align: top;\n",
       "    }\n",
       "\n",
       "    .dataframe thead th {\n",
       "        text-align: right;\n",
       "    }\n",
       "</style>\n",
       "<table border=\"1\" class=\"dataframe\">\n",
       "  <thead>\n",
       "    <tr style=\"text-align: right;\">\n",
       "      <th></th>\n",
       "      <th>category</th>\n",
       "      <th>site</th>\n",
       "      <th>url</th>\n",
       "      <th>title</th>\n",
       "      <th>context</th>\n",
       "      <th>id</th>\n",
       "    </tr>\n",
       "  </thead>\n",
       "  <tbody>\n",
       "    <tr>\n",
       "      <th>0</th>\n",
       "      <td>Sports_news</td>\n",
       "      <td>ada</td>\n",
       "      <td>https://www.ada.lk/international/සමූල-ඝාතකයාට-...</td>\n",
       "      <td>සමූල ඝාතකයාට වසර 2,208ක සිර දඬුවමක්</td>\n",
       "      <td>www.ada.lk\\n2024 ඔක්තෝබර් මස 16 වන බදාදා\\n2024...</td>\n",
       "      <td>00066ea29327429fb4bfb7d2</td>\n",
       "    </tr>\n",
       "    <tr>\n",
       "      <th>1</th>\n",
       "      <td>Local-news</td>\n",
       "      <td>ada</td>\n",
       "      <td>https://www.ada.lk/breaking_news/ඉම්රාන්-ඛාන්-...</td>\n",
       "      <td>ඉම්රාන් ඛාන් අත්අඩංගුවට</td>\n",
       "      <td>www.ada.lk\\n2024 සැප්තැම්බර් මස 24 වන අඟහරුවාද...</td>\n",
       "      <td>0006bb0ecbe94def8fabf6a2</td>\n",
       "    </tr>\n",
       "    <tr>\n",
       "      <th>2</th>\n",
       "      <td>Local-news</td>\n",
       "      <td>ada</td>\n",
       "      <td>https://www.ada.lk/breaking_news/සැකකටයුතු-මරණ...</td>\n",
       "      <td>සැකකටයුතු මරණ දෙකක්</td>\n",
       "      <td>www.ada.lk\\n2024 සැප්තැම්බර් මස 24 වන අඟහරුවාද...</td>\n",
       "      <td>000b619063ea41e3a98ee672</td>\n",
       "    </tr>\n",
       "    <tr>\n",
       "      <th>3</th>\n",
       "      <td>Local-news</td>\n",
       "      <td>ada</td>\n",
       "      <td>https://www.ada.lk/breaking_news/මැතිවරණය-රට-ස...</td>\n",
       "      <td>මැතිවරණය රට ස්ථාවර වූ පසුවයි</td>\n",
       "      <td>www.ada.lk\\n2024 සැප්තැම්බර් මස 24 වන අඟහරුවාද...</td>\n",
       "      <td>000dd069dc5643039bec9924</td>\n",
       "    </tr>\n",
       "    <tr>\n",
       "      <th>4</th>\n",
       "      <td>Local-news</td>\n",
       "      <td>ada</td>\n",
       "      <td>https://www.ada.lk/breaking_news/පුනාගල-නාය-යෑ...</td>\n",
       "      <td>පුනාගල නාය යෑමක්</td>\n",
       "      <td>www.ada.lk\\n2024 සැප්තැම්බර් මස 24 වන අඟහරුවාද...</td>\n",
       "      <td>0015e3f5b2f64c848ff7851b</td>\n",
       "    </tr>\n",
       "  </tbody>\n",
       "</table>\n",
       "</div>"
      ],
      "text/plain": [
       "      category site                                                url  \\\n",
       "0  Sports_news  ada  https://www.ada.lk/international/සමූල-ඝාතකයාට-...   \n",
       "1   Local-news  ada  https://www.ada.lk/breaking_news/ඉම්රාන්-ඛාන්-...   \n",
       "2   Local-news  ada  https://www.ada.lk/breaking_news/සැකකටයුතු-මරණ...   \n",
       "3   Local-news  ada  https://www.ada.lk/breaking_news/මැතිවරණය-රට-ස...   \n",
       "4   Local-news  ada  https://www.ada.lk/breaking_news/පුනාගල-නාය-යෑ...   \n",
       "\n",
       "                                 title  \\\n",
       "0  සමූල ඝාතකයාට වසර 2,208ක සිර දඬුවමක්   \n",
       "1              ඉම්රාන් ඛාන් අත්අඩංගුවට   \n",
       "2                  සැකකටයුතු මරණ දෙකක්   \n",
       "3         මැතිවරණය රට ස්ථාවර වූ පසුවයි   \n",
       "4                     පුනාගල නාය යෑමක්   \n",
       "\n",
       "                                             context                        id  \n",
       "0  www.ada.lk\\n2024 ඔක්තෝබර් මස 16 වන බදාදා\\n2024...  00066ea29327429fb4bfb7d2  \n",
       "1  www.ada.lk\\n2024 සැප්තැම්බර් මස 24 වන අඟහරුවාද...  0006bb0ecbe94def8fabf6a2  \n",
       "2  www.ada.lk\\n2024 සැප්තැම්බර් මස 24 වන අඟහරුවාද...  000b619063ea41e3a98ee672  \n",
       "3  www.ada.lk\\n2024 සැප්තැම්බර් මස 24 වන අඟහරුවාද...  000dd069dc5643039bec9924  \n",
       "4  www.ada.lk\\n2024 සැප්තැම්බර් මස 24 වන අඟහරුවාද...  0015e3f5b2f64c848ff7851b  "
      ]
     },
     "execution_count": 148,
     "metadata": {},
     "output_type": "execute_result"
    }
   ],
   "source": [
    "df.head(5)"
   ]
  },
  {
   "cell_type": "code",
   "execution_count": 149,
   "metadata": {},
   "outputs": [
    {
     "name": "stdout",
     "output_type": "stream",
     "text": [
      "<class 'pandas.core.frame.DataFrame'>\n",
      "RangeIndex: 57143 entries, 0 to 57142\n",
      "Data columns (total 6 columns):\n",
      " #   Column    Non-Null Count  Dtype \n",
      "---  ------    --------------  ----- \n",
      " 0   category  57143 non-null  object\n",
      " 1   site      57143 non-null  object\n",
      " 2   url       57143 non-null  object\n",
      " 3   title     57143 non-null  object\n",
      " 4   context   57143 non-null  object\n",
      " 5   id        57143 non-null  object\n",
      "dtypes: object(6)\n",
      "memory usage: 2.6+ MB\n"
     ]
    }
   ],
   "source": [
    "df.info()"
   ]
  },
  {
   "cell_type": "markdown",
   "metadata": {},
   "source": [
    "# Exploratory Data cleaning \n",
    "\n",
    "\n",
    "1. Check for mismatches in category type names and correct them \n",
    "2. Drop the entries with English characters\n",
    "4. Drop entries with special chcarcters\n",
    "5. Drop entries with Mathematical equations and related symbols\n",
    "6. Remove white spaces\n",
    "7. Replace \\n with a space ---- ada/lankadeepa/hiru\n",
    "8. Check each site and see what to clean\n",
    "    1. Wiki --- Drop articles wityh less than 5 passsages scraped\n",
    "    2. hiru --- leading and trailing whitespaces\n",
    "    3. adaderena - take all lines to one paragraph\n",
    "    4. lankadeepa --- remove before first \\n --- take all lines to one paragraph\n",
    "    5. divaina --- all good\n",
    "9. Remove duplicates  from context \n",
    "10. Remove duplicated titles excluding wiki \n",
    "11. Drop rows with context word count not between 200 and 4000 words"
   ]
  },
  {
   "cell_type": "markdown",
   "metadata": {},
   "source": [
    "### Make a copy of the original DataFrame to use for cleaning"
   ]
  },
  {
   "cell_type": "code",
   "execution_count": 150,
   "metadata": {},
   "outputs": [],
   "source": [
    "\n",
    "df_cleaned = df.copy()"
   ]
  },
  {
   "cell_type": "markdown",
   "metadata": {},
   "source": [
    "### Check for mismatches in category type names and correct them "
   ]
  },
  {
   "cell_type": "code",
   "execution_count": 151,
   "metadata": {},
   "outputs": [
    {
     "name": "stdout",
     "output_type": "stream",
     "text": [
      "Categories in 'category' variable: \n",
      "['Sports_news' 'Local-news' 'International_news' 'Business_news'\n",
      " 'International-news' 'business/all news' 'local news'\n",
      " 'international news' 'sports/all news' 'entertainment/all news'\n",
      " 'All news' 'Wiki']\n"
     ]
    }
   ],
   "source": [
    "print(\"Categories in 'category' variable: \" )\n",
    "print(df_cleaned['category'].unique())"
   ]
  },
  {
   "cell_type": "code",
   "execution_count": 152,
   "metadata": {},
   "outputs": [],
   "source": [
    "df_cleaned['category'] = df_cleaned['category'].replace({\n",
    "    'local news': 'Local-news',\n",
    "    'International_news': 'International-news',\n",
    "    'international news': 'International-news',\n",
    "    'business/all news': 'Business-news',\n",
    "    'Business_news': 'Business-news',\n",
    "    'sports/all news': 'Sports-news',\n",
    "    'Sports_news': 'Sports-news',\n",
    "    'entertainment/all news': 'Entertainment-news',\n",
    "    'All news': 'All-news'\n",
    "})"
   ]
  },
  {
   "cell_type": "code",
   "execution_count": 153,
   "metadata": {},
   "outputs": [
    {
     "name": "stdout",
     "output_type": "stream",
     "text": [
      "Categories in 'category' variable after cleaning: \n",
      "['Sports-news' 'Local-news' 'International-news' 'Business-news'\n",
      " 'Entertainment-news' 'All-news' 'Wiki']\n"
     ]
    }
   ],
   "source": [
    "\n",
    "print(\"Categories in 'category' variable after cleaning: \" )\n",
    "print(df_cleaned['category'].unique())"
   ]
  },
  {
   "cell_type": "markdown",
   "metadata": {},
   "source": [
    "### Site vise cleaning context"
   ]
  },
  {
   "cell_type": "code",
   "execution_count": 154,
   "metadata": {},
   "outputs": [
    {
     "name": "stdout",
     "output_type": "stream",
     "text": [
      "Categories in 'site' variable : \n",
      "['ada' 'adaderena' 'divaina' 'hiru_news' 'lankadeepa' 'si.wikipedia.org']\n"
     ]
    }
   ],
   "source": [
    "print(\"Categories in 'site' variable : \" )\n",
    "print(df_cleaned['site'].unique())"
   ]
  },
  {
   "cell_type": "markdown",
   "metadata": {},
   "source": [
    "### Check for special characters and English characters"
   ]
  },
  {
   "cell_type": "code",
   "execution_count": 155,
   "metadata": {},
   "outputs": [
    {
     "data": {
      "text/plain": [
       "({'Total Entries': 57143,\n",
       "  'Entries with Special Characters': 52076,\n",
       "  'Entries with English Letters': 20786},\n",
       " {'Entries with Special Characters': '91.13%',\n",
       "  'Entries with English Letters': '36.38%'})"
      ]
     },
     "execution_count": 155,
     "metadata": {},
     "output_type": "execute_result"
    }
   ],
   "source": [
    "# Define regular expressions \n",
    "special_char_pattern = re.compile(r'[^\\w\\s]', re.UNICODE)  # special characters excluding word characters and spaces\n",
    "english_letters_pattern = re.compile(r'[A-Za-z]')  # matches English letters\n",
    "\n",
    "# Define counters for occurrences\n",
    "df_cleaned['special_char_count'] = df_cleaned['context'].apply(lambda x: len(re.findall(special_char_pattern, x)))\n",
    "df_cleaned['english_letter_count'] = df_cleaned['context'].apply(lambda x: len(re.findall(english_letters_pattern, x)))\n",
    "\n",
    "# Summarize total counts for each category across entries\n",
    "summary = {\n",
    "    \"Total Entries\": len(df_cleaned),\n",
    "    \"Entries with Special Characters\": (df_cleaned['special_char_count'] > 0).sum(),\n",
    "    \"Entries with English Letters\": (df_cleaned['english_letter_count'] > 0).sum()\n",
    "}\n",
    "\n",
    "# Calculate percentage of entries containing each category\n",
    "summary_percentage = {key: f\"{(value / len(df) * 100):.2f}%\" for key, value in summary.items() if key != \"Total Entries\"}\n",
    "\n",
    "summary, summary_percentage"
   ]
  },
  {
   "cell_type": "markdown",
   "metadata": {},
   "source": [
    "### Drop the entries with English characters"
   ]
  },
  {
   "cell_type": "code",
   "execution_count": 156,
   "metadata": {},
   "outputs": [
    {
     "name": "stdout",
     "output_type": "stream",
     "text": [
      "Original DataFrame shape: (57143, 8)\n",
      "DataFrame shape after removing rows with English characters: (36357, 8)\n"
     ]
    }
   ],
   "source": [
    "# Filter out rows where 'english_letter_count' is greater than 0\n",
    "df_cleaned_no_english = df_cleaned[df_cleaned['english_letter_count'] == 0]\n",
    "\n",
    "# Verify the result by printing the shape of the cleaned DataFrame\n",
    "print(f\"Original DataFrame shape: {df_cleaned.shape}\")\n",
    "print(f\"DataFrame shape after removing rows with English characters: {df_cleaned_no_english.shape}\")"
   ]
  },
  {
   "cell_type": "markdown",
   "metadata": {},
   "source": [
    "### Drop entries with special chcarcters"
   ]
  },
  {
   "cell_type": "code",
   "execution_count": 157,
   "metadata": {},
   "outputs": [
    {
     "name": "stdout",
     "output_type": "stream",
     "text": [
      "Original DataFrame shape: (36357, 8)\n",
      "Cleaned DataFrame shape: (30945, 8)\n"
     ]
    }
   ],
   "source": [
    "# Function to check if a row contains any special characters to drop\n",
    "def drop_rows_with_special_chars(df, column_name='context'):\n",
    "    # Define the special characters to check for\n",
    "    special_chars = ['[', ']', '{', '}', '\"', \"'\", '/', '\\\\']\n",
    "\n",
    "    # Filter rows where the context column contains any of the special characters\n",
    "    mask = df[column_name].apply(lambda x: any(char in x for char in special_chars))\n",
    "\n",
    "    # Drop rows that contain any of the special characters\n",
    "    df_cleaned = df[~mask]  # ~mask means we keep rows where mask is False (i.e., no special characters)\n",
    "\n",
    "    return df_cleaned\n",
    "\n",
    "cleaned_df = drop_rows_with_special_chars(df_cleaned_no_english)\n",
    "\n",
    "# Verify the result by printing the shape or preview of the cleaned DataFrame\n",
    "print(f\"Original DataFrame shape: {df_cleaned_no_english.shape}\")\n",
    "print(f\"Cleaned DataFrame shape: {cleaned_df.shape}\")"
   ]
  },
  {
   "cell_type": "markdown",
   "metadata": {},
   "source": [
    "### Drop entries with Mathematical equations and related symbols"
   ]
  },
  {
   "cell_type": "code",
   "execution_count": 158,
   "metadata": {},
   "outputs": [
    {
     "name": "stdout",
     "output_type": "stream",
     "text": [
      "Number of rows with mathematical-like sequences: 722\n"
     ]
    }
   ],
   "source": [
    "# Update the regex pattern to detect sequences that resemble mathematical equations (numbers/operators)\n",
    "math_pattern = r'\\d\\s*[\\+\\-\\*/^=]\\s*\\d'\n",
    "\n",
    "# Apply the updated pattern to detect rows with mathematical-like sequences\n",
    "math_rows = cleaned_df['context'].str.contains(math_pattern)\n",
    "\n",
    "# Count rows with detected equations\n",
    "math_equations_count = math_rows.sum()\n",
    "print(f\"Number of rows with mathematical-like sequences: {math_equations_count}\")\n",
    "\n",
    "cleaned_df = cleaned_df[~math_rows].reset_index(drop=True)"
   ]
  },
  {
   "cell_type": "code",
   "execution_count": 159,
   "metadata": {},
   "outputs": [
    {
     "data": {
      "text/plain": [
       "(30223, 8)"
      ]
     },
     "execution_count": 159,
     "metadata": {},
     "output_type": "execute_result"
    }
   ],
   "source": [
    "cleaned_df.shape"
   ]
  },
  {
   "cell_type": "markdown",
   "metadata": {},
   "source": [
    "### Hiru news"
   ]
  },
  {
   "cell_type": "code",
   "execution_count": 160,
   "metadata": {},
   "outputs": [
    {
     "name": "stdout",
     "output_type": "stream",
     "text": [
      "Context from rows with site name 'hiru':\n",
      "\n",
      "                        රන් පවුමක මිල සීග්‍ර ලෙස ඉහල යාම හේතුවෙන් ලක්ෂ 5ක් පමණ වන තම කර්මාන්තකරුවන් අපහසුතාවයට පත්ව ඇති බව සමස්ත ලංකා රන් කරුවන්ගේ සංගමය පවසනවා. නිට්ටඹුවේ අද පැවති මාධ්‍ය හමුවකට එක්වෙමින් එහි සභාපති මංගල හර්ෂ කුමාර මේ බව සඳහන් කළා.                        \n",
      "          \n",
      "        \n"
     ]
    }
   ],
   "source": [
    "hiru_contexts = cleaned_df.loc[cleaned_df['site'] == 'hiru_news', 'context']\n",
    "\n",
    "# Print the contexts\n",
    "print(\"Context from rows with site name 'hiru':\")\n",
    "print(hiru_contexts.iloc[0])"
   ]
  },
  {
   "cell_type": "markdown",
   "metadata": {},
   "source": [
    "#### No issues in Hiru news content"
   ]
  },
  {
   "cell_type": "markdown",
   "metadata": {},
   "source": [
    "### ADA news"
   ]
  },
  {
   "cell_type": "markdown",
   "metadata": {},
   "source": [
    "#### ada was removed due to having too many noise data"
   ]
  },
  {
   "cell_type": "code",
   "execution_count": 161,
   "metadata": {},
   "outputs": [],
   "source": [
    "# ada_contexts = cleaned_df.loc[cleaned_df['site'] == 'ada', 'context']\n",
    "\n",
    "# # Print the contexts\n",
    "# print(\"Context from rows with site name 'ada':\")\n",
    "# print(ada_contexts.iloc[0])"
   ]
  },
  {
   "cell_type": "markdown",
   "metadata": {},
   "source": [
    "#### ADA news site has unwanted content in the start and at the end which is not part of the passage. Needs to remove them and bring the lines to one paragraph."
   ]
  },
  {
   "cell_type": "code",
   "execution_count": 162,
   "metadata": {},
   "outputs": [],
   "source": [
    "# def remove_first_and_last_lines(text, num_first=3):\n",
    "#     lines = text.split('\\n')\n",
    "#     if len(lines) > num_first:\n",
    "#         modified_text = '\\n'.join(lines[num_first:])\n",
    "#         # Find the index of the word \"popular\" \n",
    "#         popular_index = modified_text.find(\"popular\")\n",
    "#         if popular_index != -1:\n",
    "#             # Remove everything from \"popular\" onwards\n",
    "#             return modified_text[:popular_index].rstrip() \n",
    "        \n",
    "#         return modified_text.rstrip()  # If \"popular\" is not found, return the modified passage\n",
    "#     else:\n",
    "#         # If not enough lines, return an empty string\n",
    "#         return ''\n",
    "\n",
    "\n",
    "# cleaned_df.loc[cleaned_df['site'] == 'ada', 'context'] = cleaned_df.loc[cleaned_df['site'] == 'ada', 'context'].apply(remove_first_and_last_lines)"
   ]
  },
  {
   "cell_type": "markdown",
   "metadata": {},
   "source": [
    "### Ada Derena news"
   ]
  },
  {
   "cell_type": "code",
   "execution_count": 163,
   "metadata": {},
   "outputs": [
    {
     "name": "stdout",
     "output_type": "stream",
     "text": [
      "Context from rows with site name 'adaderena':\n",
      "ඇසේ සුද ඉවත් කිරීමේ සැත්කමක් සිදු කිරීමෙන් පසුව රෝහලින් ලබා දුන් ඖෂධ භාවිත කිරීම හේතුවෙන් ඇස් පෙනීම අහිමි වූ බව පවසමින් වන්දි ඉල්ලා පුරවැසියන් තිදෙනෙකු විසින් කොළඹ දිසා අධිකරණය හමුවේ නඩු ගොනුකර තිබේ.\n",
      "කඳපොළ ප්‍රදේශයේ පදිංචි එම්. රාජරත්නම් ඇතුළු තිදෙනෙකු විසින් මෙම පැමිණිලි ඉදිරිපත් කර ඇත.\n",
      "පැමිණිකරුවන් ඉල්ලා ඇත්තේ තමන්ට සිදුවූ හනිය වෙනුවෙන් එවක සෞඛ්‍ය අමාත්‍ය කෙහෙළිය රඹුක්වැල්ල මහතා ඇතුළු වගඋත්තරකරුවන් ගෙන් රුපියල් කෝටි 10 බැගින් වන්දි ලබාදෙන ලෙසට නියෝගයක් නිකුත් කරන ලෙසටය.\n",
      "එහි වගඋත්තරකරුවන් ලෙස හිටපු සෞඛ්‍ය අමාත්‍ය කෙහෙළිය රඹුක්වැල්ල, එම අමාත්‍යංශයේ හිටපු ලේකම් ජනක චන්ද්‍රගුප්ත, ජාතික ඖෂධ නියාමන අධිකාරිය, සෞඛ්‍ය සේවා අධ්‍යක්ෂ ජනරාල් අසේල ගුණවර්ධන ඇතුළු 11 දෙනෙකු නම් කර තිබේ.\n"
     ]
    }
   ],
   "source": [
    "adaderena_contexts = cleaned_df.loc[cleaned_df['site'] == 'adaderena', 'context']\n",
    "\n",
    "# Print the contexts\n",
    "print(\"Context from rows with site name 'adaderena':\")\n",
    "print(adaderena_contexts.iloc[0])"
   ]
  },
  {
   "cell_type": "markdown",
   "metadata": {},
   "source": [
    "#### Ada Derena news has passage in different lines need to bring them together to one paragraph."
   ]
  },
  {
   "cell_type": "markdown",
   "metadata": {},
   "source": [
    "### Lankadeepa news"
   ]
  },
  {
   "cell_type": "code",
   "execution_count": 164,
   "metadata": {},
   "outputs": [
    {
     "name": "stdout",
     "output_type": "stream",
     "text": [
      "Context from rows with site name 'lankadeepa':\n",
      "(ජේ.ඉඳුරුවගේ)\n",
      "දැනට වසර 109 කට පෙර මෙරට බ්‍රිතාන්‍ය පාලකයන් විසින් අසාධාරණ ලෙස මරණයට පත් කරනු ලැබූ කපිතාන් දියුණුගේ එඩ්වර්ඩ් හෙන්රි පේද්‍රිස් මහතාට වසර 110කට පමණ පසු ජනාධිපති සමාව ලබා දෙයි.\n",
      "ආණ්ඩුක්‍රම ව්‍යවස්ථාවේ 33(ඌ)ව්‍යවස්ථාව ප්‍රකාරව පැවරී ඇති බලතල අනුව ජනාධිපති රනිල් වික්‍රමසිංහ මහතා විසින් මෙම ජනාධිපති සමාව ප්‍රකාශයට පත් කළ අති විශේෂ ගැසට් නිවේදනය ඊයේ(12)නිකුත් කෙරිණි .\n",
      "එවකට ලංකාවේ ආන්ඩුකාරවරයා වූ රොබර්ට් චාමර්ස් විසින් 1915 ජුනි 25 දින නිකුත් කළ ප්‍රකාශයක් මගින් පත් කරනු ලැබූ යුධ අධිකරණයකින් සිදුකළ අසාධාරණ නඩු විභාගයකින් පසු 1915 ජූලි 07 දින නීති විරෝධී ලෙස මරණයට පත් කළේය. දියුණුගේ එඩ්වර්ඩ් හෙන්රි පේද්‍රිස් මහතාට මරණින් පසු ජනාධිපති පිරිනමන බව මෙම ගැසට් නිවේදනයෙන් ප්‍රකාශයට පත්කර තිබේ.\n",
      "1888 අගෝස්තු 16 දින ගාල්ලේදී උපත ලැබූ හෙන්රි පේද්‍රිස් මහතා බ්‍රිතාන්‍ය පාලන සමයේ ලංකාවේ විසූ ප්‍රමුඛ පෙළේ සමාජ ක්‍රියාකාරිකයකු මෙන්ම ලංකා ආරක්ෂක හමුදාවේ සහ කොළඹ නගරාරක්ෂක බළකායේ සේවය කළ කපිතාන් නිලයක් හෙබවූ හමුදා නිලධාරියකුද විය.\n",
      "බ්‍රිතාන්‍ය නිලධාරීන් විසින් 1915 ජාතිවාදී කලබල ඇති කිරීමට පෙළඹවීම වෙනුවෙන් චෝදනා එල්ල කර ඔහු ඝාතනය කර තිබුණි. මෙම චෝදනා පසුව අසත්‍ය බව ඔප්පු විය.\n"
     ]
    }
   ],
   "source": [
    "lankadeepa_contexts = cleaned_df.loc[cleaned_df['site'] == 'lankadeepa', 'context']\n",
    "\n",
    "# Print the contexts\n",
    "print(\"Context from rows with site name 'lankadeepa':\")\n",
    "print(lankadeepa_contexts.iloc[0])"
   ]
  },
  {
   "cell_type": "markdown",
   "metadata": {},
   "source": [
    "#### Lankadeepa news has unwanted content at the start  --- author name. And has content in different lines need to bring to one paragraph."
   ]
  },
  {
   "cell_type": "code",
   "execution_count": 165,
   "metadata": {},
   "outputs": [],
   "source": [
    "# Function to remove the first line from the context --- author name\n",
    "def remove_first_lines(text):\n",
    "    lines = text.split('\\n')\n",
    "    # Keep everything after the first line\n",
    "    return '\\n'.join(lines[1:]) if len(lines) > 1 else ''\n",
    "\n",
    "cleaned_df.loc[cleaned_df['site'] == 'lankadeepa', 'context'] = cleaned_df.loc[cleaned_df['site'] == 'lankadeepa', 'context'].apply(remove_first_lines)"
   ]
  },
  {
   "cell_type": "markdown",
   "metadata": {},
   "source": [
    "### Divaina news"
   ]
  },
  {
   "cell_type": "code",
   "execution_count": 166,
   "metadata": {},
   "outputs": [
    {
     "name": "stdout",
     "output_type": "stream",
     "text": [
      "Context from rows with site name 'divaina':\n",
      "ජර්මනියේ සෝලින්ගන් නගරයේ 650 වැනි සංවත්සරය සැමරීම සඳහා ඉකුත් 24 වැනිදා පැවති උත්සවය අතරතුර සිදුවූ පිහිඇනුමේ වගකීම අයිඑස්අයිඑස් සංවිධානය විසින් භාරගෙන ඇත.\n"
     ]
    }
   ],
   "source": [
    "divaina_contexts = cleaned_df.loc[cleaned_df['site'] == 'divaina', 'context']\n",
    "\n",
    "# Print the contexts\n",
    "print(\"Context from rows with site name 'divaina':\")\n",
    "print(divaina_contexts.iloc[1])"
   ]
  },
  {
   "cell_type": "markdown",
   "metadata": {},
   "source": [
    "#### No issues in Divaina news content."
   ]
  },
  {
   "cell_type": "markdown",
   "metadata": {},
   "source": [
    "### Wiki data"
   ]
  },
  {
   "cell_type": "code",
   "execution_count": 167,
   "metadata": {},
   "outputs": [
    {
     "name": "stdout",
     "output_type": "stream",
     "text": [
      "Context from rows with site name 'wiki':\n",
      "තමන්ට වැළදෙන වසංගත රෝග වලින් ආරක්ෂා වීම පිණිස සතියකට වැඩි කළක් කරනු ලබන මෙම අං ඇදීම නොහොත් අංකෙලිය දවසේ සවස් වරුවේ සිදු කරනු ලැබේ. උඩු පිල සහ යටි පිළ යනුවෙන් දෙපිලකට බෙදී කරනු ලබන මෙම ක්‍රීඩාවේදී යටි පිළට ජය ලැබීම දේව නියමය වන බව විශ්වාස කරයි. යටි පිල ජයග්‍රහනය කිරීම ගමට හෝ ප්‍රදේශයට යහපත් බව පිළිගැනේ. අං කෙලිය ආරම්භ කිරීමට ප්‍රථම තම තම පිළේ කපුරාල විසින් මෙසේ කවි වලින් යාතිකාවක් කරනු ලැබේ.\n",
      "\n"
     ]
    }
   ],
   "source": [
    "wiki_contexts = cleaned_df.loc[cleaned_df['site'] == 'si.wikipedia.org', 'context']\n",
    "\n",
    "# Print the contexts\n",
    "print(\"Context from rows with site name 'wiki':\")\n",
    "print(wiki_contexts.iloc[1])"
   ]
  },
  {
   "cell_type": "markdown",
   "metadata": {},
   "source": [
    "### Drop wiki articles with less than 5 passages"
   ]
  },
  {
   "cell_type": "code",
   "execution_count": 168,
   "metadata": {},
   "outputs": [
    {
     "name": "stdout",
     "output_type": "stream",
     "text": [
      "Number of wiki titles that occur less than 5 times: 2414\n"
     ]
    }
   ],
   "source": [
    "# Step 1: Filter the DataFrame for the \"si.wikipedia.org\" site\n",
    "wiki_df = cleaned_df[cleaned_df['site'] == 'si.wikipedia.org']\n",
    "\n",
    "# Step 2: Count the occurrences of each title within the \"si.wikipedia.org\" site\n",
    "title_counts_wiki = wiki_df['title'].value_counts()\n",
    "\n",
    "# Step 3: Identify titles that occur less than 5 times\n",
    "titles_to_drop_wiki = title_counts_wiki[title_counts_wiki < 5].index\n",
    "\n",
    "print(\"Number of wiki titles that occur less than 5 times:\", titles_to_drop_wiki.shape[0])\n",
    "\n",
    "# Step 4: Drop rows from the original DataFrame where the site is \"si.wikipedia.org\" and the title occurs less than 5 times\n",
    "cleaned_df = cleaned_df[~((cleaned_df['site'] == 'si.wikipedia.org') & (cleaned_df['title'].isin(titles_to_drop_wiki)))]"
   ]
  },
  {
   "cell_type": "markdown",
   "metadata": {},
   "source": [
    "### Addressing the issues in Ada/ Lankadeepa/ Ada Derena/ wiki regarding having content in different line and bringing them to one paragraph."
   ]
  },
  {
   "cell_type": "code",
   "execution_count": 169,
   "metadata": {},
   "outputs": [],
   "source": [
    "# Function to remove '\\n' by replacing it with a space across all string columns\n",
    "cleaned_df = cleaned_df.apply(lambda x: x.str.replace('\\n', ' ') if x.dtype == \"object\" else x)"
   ]
  },
  {
   "cell_type": "markdown",
   "metadata": {},
   "source": [
    "### Remove Duplicates"
   ]
  },
  {
   "cell_type": "code",
   "execution_count": 170,
   "metadata": {},
   "outputs": [],
   "source": [
    "# Step 1: Separate \"wiki\" and non-\"wiki\" rows\n",
    "wiki_df = cleaned_df[cleaned_df['site'] == 'si.wikipedia.org']\n",
    "non_wiki_df = cleaned_df[cleaned_df['site'] != 'si.wikipedia.org']"
   ]
  },
  {
   "cell_type": "code",
   "execution_count": 171,
   "metadata": {},
   "outputs": [
    {
     "name": "stdout",
     "output_type": "stream",
     "text": [
      "Number of duplicates in context column before cleaning: 7587\n",
      "Number of duplicates in title column before cleaning excluding wiki: 506\n"
     ]
    }
   ],
   "source": [
    "print(f\"Number of duplicates in context column before cleaning: {cleaned_df.duplicated('context').sum()}\")\n",
    "print(f\"Number of duplicates in title column before cleaning excluding wiki: {non_wiki_df.duplicated('title').sum()}\")\n"
   ]
  },
  {
   "cell_type": "code",
   "execution_count": 172,
   "metadata": {},
   "outputs": [],
   "source": [
    "# Step 2: Drop duplicates in non-\"wiki\" rows based on 'title', keeping only the first occurrence\n",
    "non_wiki_df = non_wiki_df.drop_duplicates(subset='title', keep='first')\n",
    "\n",
    "# Step 3: Concatenate the \"wiki\" and deduplicated non-\"wiki\" data back together\n",
    "cleaned_df = pd.concat([wiki_df, non_wiki_df])\n",
    "\n",
    "# (Optional) Reset the index if needed\n",
    "cleaned_df = cleaned_df.reset_index(drop=True)\n"
   ]
  },
  {
   "cell_type": "code",
   "execution_count": 173,
   "metadata": {},
   "outputs": [
    {
     "name": "stdout",
     "output_type": "stream",
     "text": [
      "Number of duplicates in context column after cleaning: 0\n",
      "Number of duplicates in title column after cleaning: 3873\n"
     ]
    }
   ],
   "source": [
    "cleaned_df = cleaned_df.drop_duplicates(subset='context', keep='first')\n",
    "#cleaned_df = cleaned_df.drop_duplicates(subset='title', keep='first')\n",
    "\n",
    "duplicate_count = cleaned_df.duplicated('context').sum()\n",
    "print(f\"Number of duplicates in context column after cleaning: {cleaned_df.duplicated('context').sum()}\")\n",
    "print(f\"Number of duplicates in title column after cleaning: {cleaned_df.duplicated('title').sum()}\")"
   ]
  },
  {
   "cell_type": "markdown",
   "metadata": {},
   "source": [
    "### Remove white spaces"
   ]
  },
  {
   "cell_type": "code",
   "execution_count": 174,
   "metadata": {},
   "outputs": [
    {
     "name": "stdout",
     "output_type": "stream",
     "text": [
      "\n",
      "Number of rows with empty or whitespace-only strings in context column: 2\n",
      "\n",
      "Number of rows with empty or whitespace-only strings in title column: 0\n"
     ]
    }
   ],
   "source": [
    "# Check how many rows have empty or whitespace-only strings\n",
    "print(f\"\\nNumber of rows with empty or whitespace-only strings in context column: {(cleaned_df['context'].str.strip() == '').sum()}\")\n",
    "print(f\"\\nNumber of rows with empty or whitespace-only strings in title column: {(cleaned_df['title'].str.strip() == '').sum()}\")"
   ]
  },
  {
   "cell_type": "code",
   "execution_count": 175,
   "metadata": {},
   "outputs": [],
   "source": [
    "cleaned_df = cleaned_df[cleaned_df['context'].str.strip() != '']\n",
    "cleaned_df = cleaned_df[cleaned_df['title'].str.strip() != '']"
   ]
  },
  {
   "cell_type": "markdown",
   "metadata": {},
   "source": [
    "### Add a new column to store the length of each 'context'"
   ]
  },
  {
   "cell_type": "code",
   "execution_count": 176,
   "metadata": {},
   "outputs": [],
   "source": [
    "\n",
    "cleaned_df['context_length'] = cleaned_df['context'].str.len()"
   ]
  },
  {
   "cell_type": "markdown",
   "metadata": {},
   "source": [
    "### Check for context lengths  --- mininmum/ Maximum/Average per site"
   ]
  },
  {
   "cell_type": "code",
   "execution_count": 177,
   "metadata": {},
   "outputs": [
    {
     "name": "stdout",
     "output_type": "stream",
     "text": [
      "                  min    max        mean\n",
      "site                                    \n",
      "adaderena          33   7051  757.686792\n",
      "divaina            20   1604  354.523911\n",
      "hiru_news         139  12660  675.005973\n",
      "lankadeepa          1  25100  784.919672\n",
      "si.wikipedia.org    1   7140  309.200087\n"
     ]
    }
   ],
   "source": [
    "site_length_stats = cleaned_df.groupby('site')['context_length'].agg(['min', 'max', 'mean'])\n",
    "print(site_length_stats)"
   ]
  },
  {
   "cell_type": "markdown",
   "metadata": {},
   "source": [
    "### Sort df_cleaned_updated by the 'title' column"
   ]
  },
  {
   "cell_type": "code",
   "execution_count": 178,
   "metadata": {},
   "outputs": [],
   "source": [
    "df_cleaned_sorted = cleaned_df.sort_values(by='title', ascending=True)"
   ]
  },
  {
   "cell_type": "code",
   "execution_count": 179,
   "metadata": {},
   "outputs": [
    {
     "name": "stdout",
     "output_type": "stream",
     "text": [
      "Number of titles containing '\\r' or '\\t': 6349\n",
      "Number of titles containing after cleaning '\\r' or '\\t': 0\n"
     ]
    }
   ],
   "source": [
    "# Check how many titles contain '\\r' or '\\t'\n",
    "contains_escape_chars = df_cleaned_sorted['title'].str.contains(r'\\r|\\t')\n",
    "\n",
    "# Print the count of such titles\n",
    "print(f\"Number of titles containing '\\\\r' or '\\\\t': {contains_escape_chars.sum()}\")\n",
    "\n",
    "df_cleaned_sorted['title'] = df_cleaned_sorted['title'].str.replace('\\t', '').str.replace('\\r', '')\n",
    "\n",
    "contains_escape_chars = df_cleaned_sorted['title'].str.contains(r'\\r|\\t')\n",
    "print(f\"Number of titles containing after cleaning '\\\\r' or '\\\\t': {contains_escape_chars.sum()}\")\n"
   ]
  },
  {
   "cell_type": "code",
   "execution_count": 180,
   "metadata": {},
   "outputs": [
    {
     "data": {
      "text/html": [
       "<div>\n",
       "<style scoped>\n",
       "    .dataframe tbody tr th:only-of-type {\n",
       "        vertical-align: middle;\n",
       "    }\n",
       "\n",
       "    .dataframe tbody tr th {\n",
       "        vertical-align: top;\n",
       "    }\n",
       "\n",
       "    .dataframe thead th {\n",
       "        text-align: right;\n",
       "    }\n",
       "</style>\n",
       "<table border=\"1\" class=\"dataframe\">\n",
       "  <thead>\n",
       "    <tr style=\"text-align: right;\">\n",
       "      <th></th>\n",
       "      <th>category</th>\n",
       "      <th>site</th>\n",
       "      <th>url</th>\n",
       "      <th>title</th>\n",
       "      <th>context</th>\n",
       "      <th>id</th>\n",
       "      <th>special_char_count</th>\n",
       "      <th>english_letter_count</th>\n",
       "      <th>context_length</th>\n",
       "    </tr>\n",
       "  </thead>\n",
       "  <tbody>\n",
       "    <tr>\n",
       "      <th>18150</th>\n",
       "      <td>All-news</td>\n",
       "      <td>lankadeepa</td>\n",
       "      <td>https://www.lankadeepa.lk/news/100-හවරද-ගවන-සබ...</td>\n",
       "      <td>100 හැවිරිදි ගුවන් සෙබළ 96 පෙම්වතිය සමග අතින්...</td>\n",
       "      <td>දෙවැනි ලෝක යුද්ධ සමයේදී ඇමෙරිකානු ගුවන් හමුදාව...</td>\n",
       "      <td>167b3e5cc9434b74b7416fc7</td>\n",
       "      <td>333</td>\n",
       "      <td>0</td>\n",
       "      <td>1068</td>\n",
       "    </tr>\n",
       "    <tr>\n",
       "      <th>24963</th>\n",
       "      <td>All-news</td>\n",
       "      <td>lankadeepa</td>\n",
       "      <td>https://www.lankadeepa.lk/news/13-වසරක-ඉලලන-ක-...</td>\n",
       "      <td>13 වසරක් ඉල්ලන් කෑ හිඟන්න කෑම පරක්කු වුණැයි ඔ...</td>\n",
       "      <td>වසර දහතුනක් තිස්සේ දිවා ආහාරය ලබා දුන් හෝටල් හ...</td>\n",
       "      <td>f563315540224304a941e8f1</td>\n",
       "      <td>375</td>\n",
       "      <td>0</td>\n",
       "      <td>1196</td>\n",
       "    </tr>\n",
       "    <tr>\n",
       "      <th>24619</th>\n",
       "      <td>All-news</td>\n",
       "      <td>lankadeepa</td>\n",
       "      <td>https://www.lankadeepa.lk/news/14-වන-මහලන-වට-ප...</td>\n",
       "      <td>14 වන මහලෙන් වැටී පුද්ගලයෙක් මරුට</td>\n",
       "      <td>බොරැල්ල ඩි  එස් සේනානායක මාවතේ ඉදිකරමින් පවතින...</td>\n",
       "      <td>e90027ffe8ce455d86d1e86a</td>\n",
       "      <td>156</td>\n",
       "      <td>0</td>\n",
       "      <td>466</td>\n",
       "    </tr>\n",
       "    <tr>\n",
       "      <th>20348</th>\n",
       "      <td>All-news</td>\n",
       "      <td>lankadeepa</td>\n",
       "      <td>https://www.lankadeepa.lk/news/15-රජය-නවඩ-දනයක...</td>\n",
       "      <td>15 රජයේ නිවාඩු දිනයක්</td>\n",
       "      <td>සිංහල සහ දෙමළ අලුත් අවුරුද්ද වෙනුවෙන් මෙම මස 1...</td>\n",
       "      <td>5ca2a2fe2e3b423a95f8900c</td>\n",
       "      <td>123</td>\n",
       "      <td>0</td>\n",
       "      <td>383</td>\n",
       "    </tr>\n",
       "    <tr>\n",
       "      <th>23521</th>\n",
       "      <td>All-news</td>\n",
       "      <td>lankadeepa</td>\n",
       "      <td>https://www.lankadeepa.lk/latest_news/15-හවරද-...</td>\n",
       "      <td>15 හැවිරිදි සිසුවියන් දෙදෙනා හිටි හැටියේ අතුර...</td>\n",
       "      <td>වැල්ලවාය කොටවෙහෙරගලයාය පදිංචි පහළොස් හැවිරිදි ...</td>\n",
       "      <td>c32f64448b9f46d19ffb15c1</td>\n",
       "      <td>154</td>\n",
       "      <td>0</td>\n",
       "      <td>462</td>\n",
       "    </tr>\n",
       "  </tbody>\n",
       "</table>\n",
       "</div>"
      ],
      "text/plain": [
       "       category        site  \\\n",
       "18150  All-news  lankadeepa   \n",
       "24963  All-news  lankadeepa   \n",
       "24619  All-news  lankadeepa   \n",
       "20348  All-news  lankadeepa   \n",
       "23521  All-news  lankadeepa   \n",
       "\n",
       "                                                     url  \\\n",
       "18150  https://www.lankadeepa.lk/news/100-හවරද-ගවන-සබ...   \n",
       "24963  https://www.lankadeepa.lk/news/13-වසරක-ඉලලන-ක-...   \n",
       "24619  https://www.lankadeepa.lk/news/14-වන-මහලන-වට-ප...   \n",
       "20348  https://www.lankadeepa.lk/news/15-රජය-නවඩ-දනයක...   \n",
       "23521  https://www.lankadeepa.lk/latest_news/15-හවරද-...   \n",
       "\n",
       "                                                   title  \\\n",
       "18150   100 හැවිරිදි ගුවන් සෙබළ 96 පෙම්වතිය සමග අතින්...   \n",
       "24963   13 වසරක් ඉල්ලන් කෑ හිඟන්න කෑම පරක්කු වුණැයි ඔ...   \n",
       "24619                 14 වන මහලෙන් වැටී පුද්ගලයෙක් මරුට    \n",
       "20348                             15 රජයේ නිවාඩු දිනයක්    \n",
       "23521   15 හැවිරිදි සිසුවියන් දෙදෙනා හිටි හැටියේ අතුර...   \n",
       "\n",
       "                                                 context  \\\n",
       "18150  දෙවැනි ලෝක යුද්ධ සමයේදී ඇමෙරිකානු ගුවන් හමුදාව...   \n",
       "24963  වසර දහතුනක් තිස්සේ දිවා ආහාරය ලබා දුන් හෝටල් හ...   \n",
       "24619  බොරැල්ල ඩි  එස් සේනානායක මාවතේ ඉදිකරමින් පවතින...   \n",
       "20348  සිංහල සහ දෙමළ අලුත් අවුරුද්ද වෙනුවෙන් මෙම මස 1...   \n",
       "23521  වැල්ලවාය කොටවෙහෙරගලයාය පදිංචි පහළොස් හැවිරිදි ...   \n",
       "\n",
       "                             id  special_char_count  english_letter_count  \\\n",
       "18150  167b3e5cc9434b74b7416fc7                 333                     0   \n",
       "24963  f563315540224304a941e8f1                 375                     0   \n",
       "24619  e90027ffe8ce455d86d1e86a                 156                     0   \n",
       "20348  5ca2a2fe2e3b423a95f8900c                 123                     0   \n",
       "23521  c32f64448b9f46d19ffb15c1                 154                     0   \n",
       "\n",
       "       context_length  \n",
       "18150            1068  \n",
       "24963            1196  \n",
       "24619             466  \n",
       "20348             383  \n",
       "23521             462  "
      ]
     },
     "execution_count": 180,
     "metadata": {},
     "output_type": "execute_result"
    }
   ],
   "source": [
    "df_cleaned_sorted.head(5)"
   ]
  },
  {
   "cell_type": "markdown",
   "metadata": {},
   "source": [
    "### Check if any more '\\n' are present in the 'context' column"
   ]
  },
  {
   "cell_type": "code",
   "execution_count": 181,
   "metadata": {},
   "outputs": [
    {
     "name": "stdout",
     "output_type": "stream",
     "text": [
      "Number of rows with newline characters: 0\n"
     ]
    }
   ],
   "source": [
    "newline_present = df_cleaned_sorted['context'].str.contains('\\n').sum()\n",
    "print(f\"Number of rows with newline characters: {newline_present}\")"
   ]
  },
  {
   "cell_type": "markdown",
   "metadata": {},
   "source": [
    "### Check if any more whitespaces are present in the 'context' column"
   ]
  },
  {
   "cell_type": "code",
   "execution_count": 182,
   "metadata": {},
   "outputs": [
    {
     "name": "stdout",
     "output_type": "stream",
     "text": [
      "\n",
      "Number of rows with empty or whitespace-only strings in context column after cleaning: 0\n",
      "\n",
      "Number of rows with empty or whitespace-only strings in title column after cleaning: 0\n"
     ]
    }
   ],
   "source": [
    "print(f\"\\nNumber of rows with empty or whitespace-only strings in context column after cleaning: {(df_cleaned_sorted['context'].str.strip() == '').sum()}\")\n",
    "print(f\"\\nNumber of rows with empty or whitespace-only strings in title column after cleaning: {(df_cleaned_sorted['title'].str.strip() == '').sum()}\")"
   ]
  },
  {
   "cell_type": "markdown",
   "metadata": {},
   "source": [
    "### Find number of rows with context length between 200 and 4000 characters"
   ]
  },
  {
   "cell_type": "code",
   "execution_count": 183,
   "metadata": {},
   "outputs": [
    {
     "name": "stdout",
     "output_type": "stream",
     "text": [
      "Number of rows with context length between 200 and 4000 characters: 15402\n"
     ]
    }
   ],
   "source": [
    "context_in_range = df_cleaned_sorted[(df_cleaned_sorted['context_length'] >= 200) & (df_cleaned_sorted['context_length'] <= 4000)]\n",
    "\n",
    "# Get the count of such rows\n",
    "count_in_range = context_in_range.shape[0]\n",
    "\n",
    "print(f\"Number of rows with context length between 200 and 4000 characters: {count_in_range}\")"
   ]
  },
  {
   "cell_type": "code",
   "execution_count": 184,
   "metadata": {},
   "outputs": [
    {
     "name": "stdout",
     "output_type": "stream",
     "text": [
      "Number of rows with context word count between 200 and 4000 words: 15426\n"
     ]
    }
   ],
   "source": [
    "# Step 1: Calculate the word count for each row in 'context' column\n",
    "df_cleaned_sorted['context_word_count'] = df_cleaned_sorted['context'].apply(lambda x: len(str(x).split()))\n",
    "\n",
    "# Step 2: Filter rows where word count is between 200 and 4000\n",
    "context_in_range_words= df_cleaned_sorted[(df_cleaned_sorted['context_word_count'] >= 25) & (df_cleaned_sorted['context_word_count'] <= 250)]\n",
    "\n",
    "# Step 3: Get the count of such rows\n",
    "count_in_range_words = context_in_range_words.shape[0]\n",
    "\n",
    "print(f\"Number of rows with context word count between 200 and 4000 words: {count_in_range_words}\")\n"
   ]
  },
  {
   "cell_type": "code",
   "execution_count": 185,
   "metadata": {},
   "outputs": [],
   "source": [
    "# Update df_cleaned_updated_sorted to only include rows in the range\n",
    "df_final = context_in_range_words"
   ]
  },
  {
   "cell_type": "code",
   "execution_count": 186,
   "metadata": {},
   "outputs": [],
   "source": [
    "columns_to_drop = ['special_char_count', 'english_letter_count']\n",
    "df_final = df_final.drop(columns=columns_to_drop)"
   ]
  },
  {
   "cell_type": "code",
   "execution_count": 187,
   "metadata": {},
   "outputs": [
    {
     "data": {
      "text/plain": [
       "(15426, 8)"
      ]
     },
     "execution_count": 187,
     "metadata": {},
     "output_type": "execute_result"
    }
   ],
   "source": [
    "df_final.shape"
   ]
  },
  {
   "cell_type": "code",
   "execution_count": 188,
   "metadata": {},
   "outputs": [
    {
     "name": "stdout",
     "output_type": "stream",
     "text": [
      "DataFrame successfully written to artifacts\\data\\exploratory_data.\n"
     ]
    }
   ],
   "source": [
    "# Define the file path for the JSON output\n",
    "\n",
    "#Write the sorted DataFrame to a JSON file with UTF-8 encoding \n",
    "with open(OUTPUT_PATH/'Exploratory_data.json', 'w', encoding='utf-8') as file:\n",
    "    json.dump(\n",
    "        df_final.to_dict(orient='records'), \n",
    "        file, \n",
    "        indent=7,\n",
    "        ensure_ascii=False\n",
    "    )\n",
    "\n",
    "# Confirmation message\n",
    "print(f\"DataFrame successfully written to {OUTPUT_PATH}.\")\n"
   ]
  },
  {
   "cell_type": "markdown",
   "metadata": {},
   "source": [
    "# Exploratory Data Analysis and visualizations"
   ]
  },
  {
   "cell_type": "markdown",
   "metadata": {},
   "source": [
    "### Check shape of final dataframe"
   ]
  },
  {
   "cell_type": "code",
   "execution_count": 189,
   "metadata": {},
   "outputs": [
    {
     "data": {
      "text/plain": [
       "(15426, 8)"
      ]
     },
     "execution_count": 189,
     "metadata": {},
     "output_type": "execute_result"
    }
   ],
   "source": [
    "df_final.shape"
   ]
  },
  {
   "cell_type": "markdown",
   "metadata": {},
   "source": [
    "### Check for unique instances of each column"
   ]
  },
  {
   "cell_type": "code",
   "execution_count": 190,
   "metadata": {},
   "outputs": [
    {
     "data": {
      "text/plain": [
       "category                  7\n",
       "site                      5\n",
       "url                   13260\n",
       "title                 13260\n",
       "context               15426\n",
       "id                    13260\n",
       "context_length         1484\n",
       "context_word_count      226\n",
       "dtype: int64"
      ]
     },
     "execution_count": 190,
     "metadata": {},
     "output_type": "execute_result"
    }
   ],
   "source": [
    "df_final.nunique()"
   ]
  },
  {
   "cell_type": "markdown",
   "metadata": {},
   "source": [
    "### Check for nulls or NAN values"
   ]
  },
  {
   "cell_type": "code",
   "execution_count": 191,
   "metadata": {},
   "outputs": [
    {
     "name": "stdout",
     "output_type": "stream",
     "text": [
      "Nan, Null values in the dataframe: \n",
      "category              0\n",
      "site                  0\n",
      "url                   0\n",
      "title                 0\n",
      "context               0\n",
      "id                    0\n",
      "context_length        0\n",
      "context_word_count    0\n",
      "dtype: int64\n"
     ]
    }
   ],
   "source": [
    "print(f'Nan, Null values in the dataframe: \\n{df_final.isna().sum()}')"
   ]
  },
  {
   "cell_type": "markdown",
   "metadata": {},
   "source": [
    "### Pie chart to depict the Distribution of Context Categories"
   ]
  },
  {
   "cell_type": "code",
   "execution_count": 192,
   "metadata": {},
   "outputs": [
    {
     "data": {
      "image/png": "[encoded data removed]",
      "text/plain": [
       "<Figure size 640x480 with 1 Axes>"
      ]
     },
     "metadata": {},
     "output_type": "display_data"
    }
   ],
   "source": [
    "category_counts = df_final['category'].value_counts()\n",
    "labels = category_counts.index.tolist()\n",
    "plt.pie(category_counts, labels=labels, autopct='%1.1f%%', wedgeprops={'linewidth': 0.5, 'edgecolor': 'black'} )\n",
    "plt.title('Distribution of Context Categories')\n",
    "plt.legend( loc = 'upper right', bbox_to_anchor=(1.5, 1))\n",
    "plt.show()"
   ]
  },
  {
   "cell_type": "code",
   "execution_count": 193,
   "metadata": {},
   "outputs": [
    {
     "name": "stdout",
     "output_type": "stream",
     "text": [
      "Categories in 'category' variable: \n",
      "category\n",
      "All-news              6047\n",
      "Local-news            4088\n",
      "Wiki                  2857\n",
      "International-news    1666\n",
      "Sports-news            392\n",
      "Business-news          271\n",
      "Entertainment-news     105\n",
      "Name: count, dtype: int64\n"
     ]
    }
   ],
   "source": [
    "category_counts = df_final['category'].value_counts()\n",
    "print(f\"Categories in 'category' variable: \\n{category_counts}\")"
   ]
  },
  {
   "cell_type": "markdown",
   "metadata": {},
   "source": [
    "### Pie chart to depict the Distribution of sites "
   ]
  },
  {
   "cell_type": "code",
   "execution_count": 194,
   "metadata": {},
   "outputs": [
    {
     "data": {
      "image/png": "[encoded data removed]",
      "text/plain": [
       "<Figure size 640x480 with 1 Axes>"
      ]
     },
     "metadata": {},
     "output_type": "display_data"
    }
   ],
   "source": [
    "site_counts = df_final['site'].value_counts()\n",
    "labels = site_counts.index.tolist()\n",
    "plt.pie(site_counts, labels=labels, autopct='%1.1f%%', colors=['#1f77b4', '#ff7f0e', '#2ca02c', '#d62728', '#9467bd'], wedgeprops={'linewidth': 0.25, 'edgecolor': 'black'})\n",
    "plt.title('Distribution of Sites')\n",
    "plt.legend(loc='upper right', bbox_to_anchor=(1.5, 1))\n",
    "plt.show()"
   ]
  },
  {
   "cell_type": "code",
   "execution_count": 195,
   "metadata": {},
   "outputs": [
    {
     "name": "stdout",
     "output_type": "stream",
     "text": [
      "Categories in 'site' variable: \n",
      "site\n",
      "lankadeepa          6047\n",
      "hiru_news           3564\n",
      "si.wikipedia.org    2857\n",
      "adaderena           2235\n",
      "divaina              723\n",
      "Name: count, dtype: int64\n"
     ]
    }
   ],
   "source": [
    "site_counts = df_final['site'].value_counts()\n",
    "print(f\"Categories in 'site' variable: \\n{site_counts}\")"
   ]
  },
  {
   "cell_type": "markdown",
   "metadata": {},
   "source": [
    "### Group by 'site' and find the min, max, and mean length of 'context' for each site"
   ]
  },
  {
   "cell_type": "code",
   "execution_count": 196,
   "metadata": {},
   "outputs": [
    {
     "name": "stdout",
     "output_type": "stream",
     "text": [
      "                  min   max        mean\n",
      "site                                   \n",
      "adaderena         157  1737  695.112304\n",
      "divaina           140  1604  427.666667\n",
      "hiru_news         170  1815  622.564815\n",
      "lankadeepa        140  1766  716.685629\n",
      "si.wikipedia.org  120  1865  426.549177\n"
     ]
    }
   ],
   "source": [
    "\n",
    "site_length_stats = df_final.groupby('site')['context_length'].agg(['min', 'max', 'mean'])\n",
    "print(site_length_stats)"
   ]
  },
  {
   "cell_type": "markdown",
   "metadata": {},
   "source": [
    "### Histogram to depict the Distribution of character length of context"
   ]
  },
  {
   "cell_type": "code",
   "execution_count": 197,
   "metadata": {},
   "outputs": [
    {
     "data": {
      "image/png": "[encoded data removed]",
      "text/plain": [
       "<Figure size 640x480 with 1 Axes>"
      ]
     },
     "metadata": {},
     "output_type": "display_data"
    }
   ],
   "source": [
    "df_final['context'].str.len().hist(bins = 10, color = 'green')\n",
    "plt.title('Distribution of character length of context')\n",
    "plt.xlabel('Character Count')\n",
    "plt.ylabel('Frequency')\n",
    "plt.show()"
   ]
  },
  {
   "cell_type": "code",
   "execution_count": 198,
   "metadata": {},
   "outputs": [
    {
     "name": "stdout",
     "output_type": "stream",
     "text": [
      "Minimun number of characters in context: 120\n",
      "Maximum number of character in context: 1865\n"
     ]
    }
   ],
   "source": [
    "print(f\"Minimun number of characters in context: {df_final['context'].str.len().min()}\")\n",
    "print(f\"Maximum number of character in context: {df_final['context'].str.len().max()}\")"
   ]
  },
  {
   "cell_type": "markdown",
   "metadata": {},
   "source": [
    "### Histogram to depict the Distribution of Word Count in Context"
   ]
  },
  {
   "cell_type": "code",
   "execution_count": 199,
   "metadata": {},
   "outputs": [
    {
     "data": {
      "image/png": "[encoded data removed]",
      "text/plain": [
       "<Figure size 640x480 with 1 Axes>"
      ]
     },
     "metadata": {},
     "output_type": "display_data"
    }
   ],
   "source": [
    "df_final['context'].str.split().map(lambda x: len(x)).hist(bins = 10, color = 'purple')\n",
    "plt.title('Distribution of Word Count in Context')\n",
    "plt.xlabel('Word Count')\n",
    "plt.ylabel('Frequency')\n",
    "plt.show()"
   ]
  },
  {
   "cell_type": "code",
   "execution_count": 200,
   "metadata": {},
   "outputs": [
    {
     "name": "stdout",
     "output_type": "stream",
     "text": [
      "Minimun number of words in context: 25\n",
      "Maximum number of words in context: 250\n"
     ]
    }
   ],
   "source": [
    "print(f\"Minimun number of words in context: {df_final['context'].str.split().map(lambda x: len(x)).min()}\")\n",
    "print(f\"Maximum number of words in context: {df_final['context'].str.split().map(lambda x: len(x)).max()}\")"
   ]
  },
  {
   "cell_type": "markdown",
   "metadata": {},
   "source": [
    "### Counts the occurence of stop words in content column"
   ]
  },
  {
   "cell_type": "code",
   "execution_count": 201,
   "metadata": {},
   "outputs": [],
   "source": [
    "with open(STOP_WORDS_CORPUS_PATH, \"r\", encoding='utf-8') as word_list: # Path to stop words text file --- downloaded from https://github.com/nlpcuom/Sinhala-Stopword-list\n",
    "    words = list(word_list.read().split('\\n'))\n",
    "    \n",
    "stop = set(words)  # Adds the stop words to  SET to ommit the duplicate stop words\n",
    "\n",
    "corpus=[]\n",
    "new= df_final['context'].str.split()\n",
    "new=new.values.tolist()\n",
    "corpus=[word for i in new for word in i]\n",
    "\n",
    "from collections import defaultdict\n",
    "dic=defaultdict(int)\n",
    "for word in corpus:\n",
    "    if word in stop:\n",
    "        dic[word]+=1"
   ]
  },
  {
   "cell_type": "markdown",
   "metadata": {},
   "source": [
    "### Histogram to depict the frequency of occurence of stop words"
   ]
  },
  {
   "cell_type": "code",
   "execution_count": 202,
   "metadata": {},
   "outputs": [
    {
     "name": "stderr",
     "output_type": "stream",
     "text": [
      "C:\\Users\\MSI\\AppData\\Local\\Temp\\ipykernel_22068\\1495873239.py:9: UserWarning: Glyph 108 (l) missing from font(s) Noto Sans Sinhala.\n",
      "  plt.tight_layout()\n",
      "C:\\Users\\MSI\\AppData\\Local\\Temp\\ipykernel_22068\\1495873239.py:9: UserWarning: Glyph 112 (p) missing from font(s) Noto Sans Sinhala.\n",
      "  plt.tight_layout()\n"
     ]
    },
    {
     "data": {
      "text/plain": [
       "<BarContainer object of 20 artists>"
      ]
     },
     "execution_count": 202,
     "metadata": {},
     "output_type": "execute_result"
    },
    {
     "name": "stderr",
     "output_type": "stream",
     "text": [
      "d:\\Desktop\\FY\\FYP\\researchproject\\.venv\\lib\\site-packages\\IPython\\core\\pylabtools.py:170: UserWarning: Glyph 108 (l) missing from font(s) Noto Sans Sinhala.\n",
      "  fig.canvas.print_figure(bytes_io, **kw)\n",
      "d:\\Desktop\\FY\\FYP\\researchproject\\.venv\\lib\\site-packages\\IPython\\core\\pylabtools.py:170: UserWarning: Glyph 112 (p) missing from font(s) Noto Sans Sinhala.\n",
      "  fig.canvas.print_figure(bytes_io, **kw)\n"
     ]
    },
    {
     "data": {
      "image/png": "[encoded data removed]",
      "text/plain": [
       "<Figure size 640x480 with 1 Axes>"
      ]
     },
     "metadata": {},
     "output_type": "display_data"
    }
   ],
   "source": [
    "path = NOTOSANS_FONT_PATH # Path to sinhala font inorder to print the stop words in sinhala \n",
    "fontprop = fm.FontProperties(fname=path)\n",
    "top=sorted(dic.items(), key=lambda x:x[1],reverse=True)[:20] \n",
    "x,y=zip(*top)\n",
    "plt.title('Histogram of stop words frequency')\n",
    "plt.xlabel('Stop words')\n",
    "plt.ylabel('Frequency')\n",
    "plt.xticks(rotation=45, fontproperties=fontprop)\n",
    "plt.tight_layout() \n",
    "plt.bar(x,y,) "
   ]
  },
  {
   "cell_type": "markdown",
   "metadata": {},
   "source": [
    "### Top 10 Named Entity Recognition among randomly selected sample"
   ]
  },
  {
   "cell_type": "code",
   "execution_count": null,
   "metadata": {},
   "outputs": [],
   "source": [
    "\n",
    "def plot_named_entity_barchart(text):\n",
    "    # Load  Sinhala NER data from the partition.tsv file\n",
    "    ner_data = pd.read_csv(NER_CORPUS_PATH, sep='\\t',names=['entity', 'label'], header=None)  \n",
    "    \n",
    "    def _get_ner(text):\n",
    "        entities = []\n",
    "        for index, row in ner_data.iterrows():\n",
    "            if row['entity'] in text and row['label'] != 'O': # Check if entity text is in the given text and avoid the entites without NER tags\n",
    "                entities.append(row['entity'])  #\n",
    "        return entities\n",
    "    \n",
    "    ent = text.apply(lambda x: _get_ner(x))\n",
    "    ent = [x for sub in ent for x in sub]\n",
    "    counter = Counter(ent)\n",
    "    count = counter.most_common()\n",
    "    \n",
    "    x,y=map(list,zip(*counter.most_common(10)))\n",
    "    sns.barplot(x=y, y=x)\n",
    "    plt.title(\"Top 10 Named Entity Recognition\")\n",
    "    plt.yticks(rotation=45, fontproperties=fontprop)\n",
    "    plt.xlabel(\"Count\")\n",
    "    plt.ylabel(\"Entities\")\n",
    "    plt.show()"
   ]
  },
  {
   "cell_type": "code",
   "execution_count": 204,
   "metadata": {},
   "outputs": [
    {
     "name": "stderr",
     "output_type": "stream",
     "text": [
      "d:\\Desktop\\FY\\FYP\\researchproject\\.venv\\lib\\site-packages\\IPython\\core\\pylabtools.py:170: UserWarning: Glyph 108 (l) missing from font(s) Noto Sans Sinhala.\n",
      "  fig.canvas.print_figure(bytes_io, **kw)\n",
      "d:\\Desktop\\FY\\FYP\\researchproject\\.venv\\lib\\site-packages\\IPython\\core\\pylabtools.py:170: UserWarning: Glyph 112 (p) missing from font(s) Noto Sans Sinhala.\n",
      "  fig.canvas.print_figure(bytes_io, **kw)\n"
     ]
    },
    {
     "data": {
      "image/png": "[encoded data removed]",
      "text/plain": [
       "<Figure size 640x480 with 1 Axes>"
      ]
     },
     "metadata": {},
     "output_type": "display_data"
    }
   ],
   "source": [
    "plot_named_entity_barchart(df_final['context'].sample(n=1000, random_state=1)) # Plots the Top 10 Named Entity Recognition for 1000 samples"
   ]
  }
 ],
 "metadata": {
  "kernelspec": {
   "display_name": ".venv",
   "language": "python",
   "name": "python3"
  },
  "language_info": {
   "codemirror_mode": {
    "name": "ipython",
    "version": 3
   },
   "file_extension": ".py",
   "mimetype": "text/x-python",
   "name": "python",
   "nbconvert_exporter": "python",
   "pygments_lexer": "ipython3",
   "version": "3.10.0"
  }
 },
 "nbformat": 4,
 "nbformat_minor": 2
}
